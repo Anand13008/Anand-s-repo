{
 "cells": [
  {
   "cell_type": "code",
   "execution_count": 2,
   "metadata": {},
   "outputs": [
    {
     "name": "stdout",
     "output_type": "stream",
     "text": [
      "[1, 2, 3, 4, 5]\n"
     ]
    }
   ],
   "source": [
    "\n",
    "#question 2\n",
    "# ls=[]\n",
    "# for i in range (5):\n",
    "#     inputs=int(input(\"enter a number\"))\n",
    "#     ls.append(inputs)\n",
    "# print(ls)\n"
   ]
  },
  {
   "cell_type": "code",
   "execution_count": 6,
   "metadata": {},
   "outputs": [
    {
     "name": "stdout",
     "output_type": "stream",
     "text": [
      "the sum=  15\n",
      "the avegrage is =  3.75\n",
      "the minimum value is =  1\n",
      "the maximum value is =  5\n"
     ]
    }
   ],
   "source": [
    "# #question 1 \n",
    "\n",
    "# ls=[]\n",
    "# def calc(ls):\n",
    "#     sum=0\n",
    "#     average=0\n",
    "#     minimum_value=0\n",
    "#     maximum_value=0\n",
    "#     for elements in ls:\n",
    "#         sum=sum+elements\n",
    "#     print(\"the sum= \", sum)\n",
    "#     average=sum/4\n",
    "#     print(\"the avegrage is = \", average)\n",
    "#     print(\"the minimum value is = \",min(ls))\n",
    "#     print(\"the maximum value is = \", max(ls))\n",
    "\n",
    "# for i in range (5):\n",
    "#     inp=int(input(\"enter a number\"))\n",
    "#     ls.append(inp)\n",
    "# calc(ls)"
   ]
  }
 ],
 "metadata": {
  "kernelspec": {
   "display_name": "Python 3",
   "language": "python",
   "name": "python3"
  },
  "language_info": {
   "codemirror_mode": {
    "name": "ipython",
    "version": 3
   },
   "file_extension": ".py",
   "mimetype": "text/x-python",
   "name": "python",
   "nbconvert_exporter": "python",
   "pygments_lexer": "ipython3",
   "version": "3.12.4"
  }
 },
 "nbformat": 4,
 "nbformat_minor": 2
}
